{
 "cells": [
  {
   "cell_type": "code",
   "execution_count": 58,
   "metadata": {},
   "outputs": [],
   "source": [
    "from dotenv import load_dotenv\n",
    "import os\n",
    "import pandas as pd\n",
    "import re\n",
    "from selenium import webdriver\n",
    "from selenium.webdriver.common.by import By\n",
    "from selenium.webdriver.common.keys import Keys\n",
    "import time\n",
    "load_dotenv()"
   ]
  },
  {
   "cell_type": "code",
   "execution_count": 59,
   "metadata": {},
   "outputs": [],
   "source": [
    "options  = webdriver.ChromeOptions()\n",
    "driver = webdriver.Chrome(options=options)"
   ]
  },
  {
   "cell_type": "code",
   "execution_count": 60,
   "metadata": {},
   "outputs": [],
   "source": [
    "url = 'https://sede.madrid.es/portal/site/tramites/menuitem.62876cb64654a55e2dbd7003a8a409a0/?vgnextoid=e3b0234be7924710VgnVCM2000001f4a900aRCRD&vgnextchannel=b59637c190180210VgnVCM100000c90da8c0RCRD&vgnextfmt=pd'\n",
    "driver.get(url)"
   ]
  },
  {
   "cell_type": "code",
   "execution_count": 61,
   "metadata": {},
   "outputs": [],
   "source": [
    "rechazar = driver.find_element(By.XPATH, '//*[@id=\"iam-cookie-control-modal-action-secondary\"]')\n",
    "rechazar.click()"
   ]
  },
  {
   "cell_type": "code",
   "execution_count": 62,
   "metadata": {},
   "outputs": [],
   "source": [
    "en_linea = driver.find_element(By.XPATH, '//*[@id=\"verTodas\"]/div/div[1]/p/a')\n",
    "en_linea.click()"
   ]
  },
  {
   "cell_type": "code",
   "execution_count": 63,
   "metadata": {},
   "outputs": [],
   "source": [
    "driver.close()\n",
    "driver.switch_to.window(driver.window_handles[0])\n",
    "\n",
    "usuario_contrasena = driver.find_element(By.XPATH, '//*[@id=\"ContentFixedSection_uSecciones_divSections\"]/section[1]/div[2]/div/div/div[2]/article[1]')\n",
    "usuario_contrasena.click()"
   ]
  },
  {
   "cell_type": "code",
   "execution_count": 64,
   "metadata": {},
   "outputs": [],
   "source": [
    "acceso = driver.find_element(By.XPATH, '//*[@id=\"acceso_pass\"]')\n",
    "acceso.click()"
   ]
  },
  {
   "cell_type": "code",
   "execution_count": 65,
   "metadata": {},
   "outputs": [],
   "source": [
    "usuario = driver.find_element(By.XPATH, '//*[@id=\"correoelectronico\"]')\n",
    "usuario.send_keys(os.environ.get('user'))\n",
    "\n",
    "contrasena = driver.find_element(By.XPATH, '//*[@id=\"contrasenia\"]')\n",
    "contrasena.send_keys(os.environ.get('pass'))\n",
    "contrasena.submit()"
   ]
  },
  {
   "cell_type": "code",
   "execution_count": 66,
   "metadata": {},
   "outputs": [],
   "source": [
    "actividades_dia_centro = driver.find_element(By.XPATH, '//*[@id=\"ContentFixedSection_uSecciones_divSections\"]/section[3]/div[2]/div/div/div[2]/article[1]/div')\n",
    "actividades_dia_centro.click()"
   ]
  },
  {
   "cell_type": "code",
   "execution_count": 67,
   "metadata": {},
   "outputs": [],
   "source": [
    "disponibilidad = driver.find_element(By.XPATH, '//*[@id=\"ContentFixedSection_uAltaEventos_uCentrosSeleccionar_availability_filter_on\"]')\n",
    "disponibilidad.click()"
   ]
  },
  {
   "cell_type": "code",
   "execution_count": 68,
   "metadata": {},
   "outputs": [],
   "source": [
    "time.sleep(1)\n",
    "centros = driver.find_elements(By.XPATH, \"//li[contains(@class, 'media pull-left')]\")"
   ]
  },
  {
   "cell_type": "code",
   "execution_count": 69,
   "metadata": {},
   "outputs": [
    {
     "data": {
      "text/html": [
       "<div>\n",
       "<style scoped>\n",
       "    .dataframe tbody tr th:only-of-type {\n",
       "        vertical-align: middle;\n",
       "    }\n",
       "\n",
       "    .dataframe tbody tr th {\n",
       "        vertical-align: top;\n",
       "    }\n",
       "\n",
       "    .dataframe thead th {\n",
       "        text-align: right;\n",
       "    }\n",
       "</style>\n",
       "<table border=\"1\" class=\"dataframe\">\n",
       "  <thead>\n",
       "    <tr style=\"text-align: right;\">\n",
       "      <th></th>\n",
       "      <th>Centro</th>\n",
       "      <th>Dirección</th>\n",
       "      <th>Actividad</th>\n",
       "      <th>Horario</th>\n",
       "      <th>Rango de edad</th>\n",
       "      <th>Duración</th>\n",
       "    </tr>\n",
       "  </thead>\n",
       "  <tbody>\n",
       "    <tr>\n",
       "      <th>0</th>\n",
       "      <td>Cubo Gym Las Tablas</td>\n",
       "      <td>Calle Fromista Esq Calle Castiello de Jaca, 28...</td>\n",
       "      <td>Cubo Gym Cross Training/Funcional</td>\n",
       "      <td>[18:00, 19:00, 20:00, 21:00]</td>\n",
       "      <td>De 15 a 64 años</td>\n",
       "      <td>60'</td>\n",
       "    </tr>\n",
       "    <tr>\n",
       "      <th>1</th>\n",
       "      <td>Cubo Gym Madrid Río</td>\n",
       "      <td>Paseo Bajo de la Virgen del Puerto, 28005, Madrid</td>\n",
       "      <td>Cubo Gym Cross Training/Funcional</td>\n",
       "      <td>[18:00, 19:00, 20:00, 21:00]</td>\n",
       "      <td>De 15 a 64 años</td>\n",
       "      <td>45'</td>\n",
       "    </tr>\n",
       "    <tr>\n",
       "      <th>2</th>\n",
       "      <td>Cubo Gym Retiro</td>\n",
       "      <td>Pª de Fernán Núñez, (en \"Capricho Castillete\")...</td>\n",
       "      <td>Cubo Gym Cross Training/Funcional</td>\n",
       "      <td>[18:00, 19:00, 20:00, 21:00]</td>\n",
       "      <td>De 15 a 64 años</td>\n",
       "      <td>60'</td>\n",
       "    </tr>\n",
       "  </tbody>\n",
       "</table>\n",
       "</div>"
      ],
      "text/plain": [
       "                Centro                                          Dirección  \\\n",
       "0  Cubo Gym Las Tablas  Calle Fromista Esq Calle Castiello de Jaca, 28...   \n",
       "1  Cubo Gym Madrid Río  Paseo Bajo de la Virgen del Puerto, 28005, Madrid   \n",
       "2      Cubo Gym Retiro  Pª de Fernán Núñez, (en \"Capricho Castillete\")...   \n",
       "\n",
       "                           Actividad                       Horario  \\\n",
       "0  Cubo Gym Cross Training/Funcional  [18:00, 19:00, 20:00, 21:00]   \n",
       "1  Cubo Gym Cross Training/Funcional  [18:00, 19:00, 20:00, 21:00]   \n",
       "2  Cubo Gym Cross Training/Funcional  [18:00, 19:00, 20:00, 21:00]   \n",
       "\n",
       "     Rango de edad Duración  \n",
       "0  De 15 a 64 años      60'  \n",
       "1  De 15 a 64 años      45'  \n",
       "2  De 15 a 64 años      60'  "
      ]
     },
     "execution_count": 69,
     "metadata": {},
     "output_type": "execute_result"
    }
   ],
   "source": [
    "columnas = [\"Centro\", \"Dirección\", \"Actividad\", \"Horario\", \"Rango de edad\", \"Duración\"]\n",
    "df = pd.DataFrame(columns=columnas)\n",
    "\n",
    "for i in range(len(centros)):\n",
    "    centro = centros[i]\n",
    "    time.sleep(3)\n",
    "    centro.click()\n",
    "    time.sleep(3)\n",
    "\n",
    "    nombre = driver.find_element(By.XPATH, '//*[@id=\"ContentFixedSection_uAltaEventos_divFacility\"]/div/h2')\n",
    "    direccion = driver.find_element(By.XPATH, '//*[@id=\"ContentFixedSection_uAltaEventos_divFacility\"]/div/div[2]')\n",
    "    elementos_h4 = driver.find_elements(By.XPATH, '//div[@class=\"collapse in\"]//h4')\n",
    "\n",
    "    actividades_con_info_adicional = []\n",
    "\n",
    "    rango_edad_actual = None\n",
    "    duracion_actual = None\n",
    "\n",
    "    patron_rango_edad_flexible = re.compile(r\"(?i)\\b(?:De\\s*)?(\\d+)\\s*a\\s*(\\d+)\\s*años\\b\")\n",
    "    patron_rango_edad_apartirde = re.compile(r\"(?i)\\bA\\s*partir\\s+de\\s+(\\d+)\\s+años\\b\")\n",
    "    patron_duracion = r\"(\\d+)\\s*[´'`]\"\n",
    "    patron_hora = r\"\\d{1,2}:\\d{2}\"\n",
    "\n",
    "    for elemento in elementos_h4:\n",
    "        texto = elemento.text\n",
    "        \n",
    "        if re.match(patron_hora, texto):\n",
    "            actividades_con_info_adicional[-1][1].append(texto)\n",
    "        else:\n",
    "            titulo_actual = texto\n",
    "            rango_edad_actual = None\n",
    "            duracion_actual = None\n",
    "            elementos_p = elemento.find_elements(By.XPATH, './following-sibling::p')\n",
    "            \n",
    "            for elem_p in elementos_p:\n",
    "                texto_p = elem_p.text\n",
    "                resultado_rango_edad = re.search(patron_rango_edad_flexible, texto_p)\n",
    "                \n",
    "                if resultado_rango_edad:\n",
    "                    rango_edad_actual = f\"De {resultado_rango_edad.group(1)} a {resultado_rango_edad.group(2)} años\"\n",
    "\n",
    "                else:\n",
    "                    resultado_rango_edad_apartirde = re.search(patron_rango_edad_apartirde, texto_p)\n",
    "                    if resultado_rango_edad_apartirde:\n",
    "                        rango_edad_actual = f\"A partir de {resultado_rango_edad_apartirde.group(1)} años\"\n",
    "                        \n",
    "                resultado_duracion = re.search(patron_duracion, texto_p)\n",
    "                if resultado_duracion:\n",
    "                    duracion_actual = f\"{resultado_duracion.group(1)}'\"\n",
    "\n",
    "            actividades_con_info_adicional.append([titulo_actual, [], rango_edad_actual, duracion_actual])\n",
    "\n",
    "    for actividad in actividades_con_info_adicional:\n",
    "        titulo = actividad[0]\n",
    "        horas = actividad[1]\n",
    "        rango_edad = actividad[2]\n",
    "        duracion = actividad[3]\n",
    "        df.loc[len(df)] = [nombre.text, direccion.text, titulo, horas, rango_edad, duracion]\n",
    "\n",
    "    back = driver.find_element(By.XPATH, '//*[@id=\"ContentFixedSection_uAltaEventos_divFacility\"]/div/div[1]/span')\n",
    "    back.click()\n",
    "\n",
    "df"
   ]
  },
  {
   "cell_type": "code",
   "execution_count": null,
   "metadata": {},
   "outputs": [],
   "source": [
    "# Ya está automatizado el scraping, solo faltaría editar el dataframe y corregir algunos datos, como añadir el teléfono o distrito, fecha\n",
    "# También hay que automatizar la subida de datos a la base de datos."
   ]
  },
  {
   "cell_type": "markdown",
   "metadata": {},
   "source": [
    "# Pruebas"
   ]
  }
 ],
 "metadata": {
  "kernelspec": {
   "display_name": "Python 3",
   "language": "python",
   "name": "python3"
  },
  "language_info": {
   "codemirror_mode": {
    "name": "ipython",
    "version": 3
   },
   "file_extension": ".py",
   "mimetype": "text/x-python",
   "name": "python",
   "nbconvert_exporter": "python",
   "pygments_lexer": "ipython3",
   "version": "3.11.4"
  },
  "orig_nbformat": 4
 },
 "nbformat": 4,
 "nbformat_minor": 2
}
