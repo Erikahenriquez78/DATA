{
 "cells": [
  {
   "cell_type": "code",
   "execution_count": 205,
   "metadata": {},
   "outputs": [],
   "source": [
    "from selenium import webdriver\n",
    "from selenium.webdriver.common.by import By\n",
    "import pandas as pd\n",
    "from selenium.webdriver.common.keys import Keys\n",
    "import os\n",
    "from dotenv import load_dotenv\n",
    "load_dotenv()\n",
    "import time"
   ]
  },
  {
   "cell_type": "code",
   "execution_count": 206,
   "metadata": {},
   "outputs": [],
   "source": [
    "options  = webdriver.ChromeOptions()\n",
    "driver = webdriver.Chrome(options=options)"
   ]
  },
  {
   "cell_type": "code",
   "execution_count": 207,
   "metadata": {},
   "outputs": [],
   "source": [
    "url = 'https://sede.madrid.es/portal/site/tramites/menuitem.62876cb64654a55e2dbd7003a8a409a0/?vgnextoid=e3b0234be7924710VgnVCM2000001f4a900aRCRD&vgnextchannel=b59637c190180210VgnVCM100000c90da8c0RCRD&vgnextfmt=pd'\n",
    "driver.get(url)"
   ]
  },
  {
   "cell_type": "code",
   "execution_count": 208,
   "metadata": {},
   "outputs": [],
   "source": [
    "rechazar = driver.find_element(By.XPATH, '//*[@id=\"iam-cookie-control-modal-action-secondary\"]')\n",
    "rechazar.click()"
   ]
  },
  {
   "cell_type": "code",
   "execution_count": 209,
   "metadata": {},
   "outputs": [],
   "source": [
    "en_linea = driver.find_element(By.XPATH, '//*[@id=\"verTodas\"]/div/div[1]/p/a')\n",
    "en_linea.click()"
   ]
  },
  {
   "cell_type": "code",
   "execution_count": 210,
   "metadata": {},
   "outputs": [],
   "source": [
    "driver.close()\n",
    "driver.switch_to.window(driver.window_handles[0])\n",
    "\n",
    "usuario_contrasena = driver.find_element(By.XPATH, '//*[@id=\"ContentFixedSection_uSecciones_divSections\"]/section[1]/div[2]/div/div/div[2]/article[1]')\n",
    "usuario_contrasena.click()"
   ]
  },
  {
   "cell_type": "code",
   "execution_count": 211,
   "metadata": {},
   "outputs": [],
   "source": [
    "acceso = driver.find_element(By.XPATH, '//*[@id=\"acceso_pass\"]')\n",
    "acceso.click()"
   ]
  },
  {
   "cell_type": "code",
   "execution_count": 212,
   "metadata": {},
   "outputs": [],
   "source": [
    "usuario = driver.find_element(By.XPATH, '//*[@id=\"correoelectronico\"]')\n",
    "usuario.send_keys(os.environ.get('user'))\n",
    "\n",
    "contrasena = driver.find_element(By.XPATH, '//*[@id=\"contrasenia\"]')\n",
    "contrasena.send_keys(os.environ.get('pass'))\n",
    "contrasena.submit()"
   ]
  },
  {
   "cell_type": "code",
   "execution_count": 213,
   "metadata": {},
   "outputs": [],
   "source": [
    "actividades_dia_centro = driver.find_element(By.XPATH, '//*[@id=\"ContentFixedSection_uSecciones_divSections\"]/section[3]/div[2]/div/div/div[2]/article[1]/div')\n",
    "actividades_dia_centro.click()"
   ]
  },
  {
   "cell_type": "code",
   "execution_count": 214,
   "metadata": {},
   "outputs": [],
   "source": [
    "disponibilidad = driver.find_element(By.XPATH, '//*[@id=\"ContentFixedSection_uAltaEventos_uCentrosSeleccionar_availability_filter_on\"]')\n",
    "disponibilidad.click()"
   ]
  },
  {
   "cell_type": "code",
   "execution_count": 215,
   "metadata": {},
   "outputs": [],
   "source": [
    "time.sleep(2)\n",
    "centros = driver.find_elements(By.XPATH, \"//li[contains(@class, 'media pull-left')]\")"
   ]
  },
  {
   "cell_type": "code",
   "execution_count": 216,
   "metadata": {},
   "outputs": [],
   "source": [
    "centros[0].click()"
   ]
  },
  {
   "cell_type": "code",
   "execution_count": 217,
   "metadata": {},
   "outputs": [],
   "source": [
    "actividades = driver.find_elements(By.XPATH, '//div[contains(@class, \"collapse in\")]')"
   ]
  },
  {
   "cell_type": "markdown",
   "metadata": {},
   "source": [
    "# Pruebas"
   ]
  },
  {
   "cell_type": "code",
   "execution_count": 225,
   "metadata": {},
   "outputs": [
    {
     "ename": "AttributeError",
     "evalue": "'list' object has no attribute 'element'",
     "output_type": "error",
     "traceback": [
      "\u001b[1;31m---------------------------------------------------------------------------\u001b[0m",
      "\u001b[1;31mAttributeError\u001b[0m                            Traceback (most recent call last)",
      "Cell \u001b[1;32mIn[225], line 1\u001b[0m\n\u001b[1;32m----> 1\u001b[0m actividades\u001b[39m.\u001b[39;49melement[\u001b[39m0\u001b[39m]\n",
      "\u001b[1;31mAttributeError\u001b[0m: 'list' object has no attribute 'element'"
     ]
    }
   ],
   "source": [
    "actividades.element[0]"
   ]
  },
  {
   "cell_type": "code",
   "execution_count": null,
   "metadata": {},
   "outputs": [],
   "source": [
    "for i, centro in range(len(centros)):\n",
    "    centro[i].click()\n",
    "    for actividad in actividades:\n",
    "        "
   ]
  },
  {
   "cell_type": "code",
   "execution_count": 186,
   "metadata": {},
   "outputs": [
    {
     "ename": "IndexError",
     "evalue": "list index out of range",
     "output_type": "error",
     "traceback": [
      "\u001b[1;31m---------------------------------------------------------------------------\u001b[0m",
      "\u001b[1;31mIndexError\u001b[0m                                Traceback (most recent call last)",
      "Cell \u001b[1;32mIn[186], line 1\u001b[0m\n\u001b[1;32m----> 1\u001b[0m \u001b[39mprint\u001b[39m(actividades[\u001b[39m2\u001b[39;49m]\u001b[39m.\u001b[39mtext)\n",
      "\u001b[1;31mIndexError\u001b[0m: list index out of range"
     ]
    }
   ],
   "source": [
    "print(actividades[2].text)"
   ]
  },
  {
   "cell_type": "code",
   "execution_count": 218,
   "metadata": {},
   "outputs": [
    {
     "data": {
      "text/plain": [
       "1"
      ]
     },
     "execution_count": 218,
     "metadata": {},
     "output_type": "execute_result"
    }
   ],
   "source": [
    "len(actividades)"
   ]
  },
  {
   "cell_type": "code",
   "execution_count": 223,
   "metadata": {},
   "outputs": [
    {
     "name": "stdout",
     "output_type": "stream",
     "text": [
      "Cubo Gym Cross Training/Funcional\n",
      "Las Tablas\n",
      "15 a 64 años\n",
      "60'\n",
      "C/ Frómista esquina C/ Castiello de Jaca\n",
      "Actividad dirigida a la mejora de la condición física con acento en el trabajo de fuerza. Basa su metodología en los patrones básicos del movimiento del cuerpo, con el objetivo de mejorar la eficacia de las tareas cotidianas, profesionales, de ocio, recreativas y deportivas, en base a las necesidades individuales. Si las condiciones climatológicas son adversas, la sesión quedará suspendida.\n",
      "18:00\n",
      "20/20\n",
      "19:00\n",
      "20/20\n",
      "20:00\n",
      "20/20\n",
      "21:00\n",
      "20/20\n"
     ]
    }
   ],
   "source": [
    "for element in actividades:\n",
    "    texto = element.text\n",
    "    print(texto)"
   ]
  },
  {
   "cell_type": "code",
   "execution_count": 135,
   "metadata": {},
   "outputs": [
    {
     "name": "stdout",
     "output_type": "stream",
     "text": [
      "Cubo Gym Las Tablas\n",
      "Calle Fromista Esq Calle Castiello de Jaca, 28050, Madrid\n",
      "915880432\n",
      "DISTRITO FUENCARRAL - EL PARDO\n",
      "----------\n",
      "Cubo Gym Madrid Río\n",
      "Paseo Bajo de la Virgen del Puerto, 28005, Madrid\n",
      "915880432\n",
      "DISTRITO CENTRO\n",
      "----------\n",
      "Cubo Gym Retiro\n",
      "Pª de Fernán Núñez, (en \"Capricho Castillete\"), 28009, Madrid\n",
      "915880432\n",
      "DISTRITO RETIRO\n",
      "----------\n"
     ]
    }
   ],
   "source": [
    "for element in centros:\n",
    "    texto = element.text\n",
    "    print(texto)\n",
    "    print('----------')"
   ]
  }
 ],
 "metadata": {
  "kernelspec": {
   "display_name": "Python 3",
   "language": "python",
   "name": "python3"
  },
  "language_info": {
   "codemirror_mode": {
    "name": "ipython",
    "version": 3
   },
   "file_extension": ".py",
   "mimetype": "text/x-python",
   "name": "python",
   "nbconvert_exporter": "python",
   "pygments_lexer": "ipython3",
   "version": "3.11.4"
  },
  "orig_nbformat": 4
 },
 "nbformat": 4,
 "nbformat_minor": 2
}
