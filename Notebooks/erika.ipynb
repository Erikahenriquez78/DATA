{
 "cells": [
  {
   "cell_type": "code",
   "execution_count": null,
   "metadata": {},
   "outputs": [],
   "source": [
    "import pandas as pd\n",
    "from sklearn.linear_model import LogisticRegression\n",
    "\n",
    "# Cargar datos de usuarios y deportes\n",
    "datos_usuario = pd.read_csv(\"../Raw_Datasets/Datos_Ficticios.csv\")\n",
    "deportes = pd.read_csv(\"deportes.csv\")\n",
    "\n",
    "# Preprocesamiento de datos de usuarios\n",
    "X_usuario = datos_usuario[[\"edad\", \"estatura\", \"peso\", \"nivel_actividad\", \"consumo_calorico\"]]\n",
    "y_usuario = datos_usuario[\"deporte_preferido\"]  # Si tienes datos sobre el deporte preferido del usuario\n",
    "\n",
    "# Crear modelo de regresión logística\n",
    "modelo = LogisticRegression()\n",
    "modelo.fit(X_usuario, y_usuario)\n",
    "\n",
    "# Obtener el perfil del usuario (puedes obtener estos valores a través de un formulario en la app)\n",
    "edad_usuario = 30\n",
    "estatura_usuario = 170\n",
    "peso_usuario = 70\n",
    "nivel_actividad_usuario = 3  # 1: Bajo, 2: Moderado, 3: Alto\n",
    "consumo_calorico_usuario = 250\n",
    "\n",
    "# Predecir el deporte recomendado para el usuario\n",
    "perfil_usuario = [[edad_usuario, estatura_usuario, peso_usuario, nivel_actividad_usuario, consumo_calorico_usuario]]\n",
    "deporte_recomendado = modelo.predict(perfil_usuario)[0]\n",
    "\n",
    "# Filtrar los deportes recomendados para el usuario según su nivel de actividad\n",
    "deportes_recomendados_nivel1 = deportes[deportes[\"intensidad\"] <= nivel_actividad_usuario]\n",
    "\n",
    "# Filtrar el deporte específico recomendado por el modelo\n",
    "deporte_recomendado_nivel1 = deportes_recomendados_nivel1[deportes_recomendados_nivel1[\"tipo_deporte\"] == deporte_recomendado]\n",
    "\n",
    "# Imprimir el resultado\n",
    "print(f\"Deporte recomendado para el usuario: {deporte_recomendado_nivel1['nombre_deporte'].values[0]}\")\n"
   ]
  }
 ],
 "metadata": {
  "kernelspec": {
   "display_name": "Python 3",
   "language": "python",
   "name": "python3"
  },
  "language_info": {
   "name": "python",
   "version": "3.10.11"
  },
  "orig_nbformat": 4
 },
 "nbformat": 4,
 "nbformat_minor": 2
}
