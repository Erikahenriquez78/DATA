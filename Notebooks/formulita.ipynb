{
 "cells": [
  {
   "cell_type": "code",
   "execution_count": 1,
   "metadata": {},
   "outputs": [],
   "source": [
    "import pandas as pd"
   ]
  },
  {
   "cell_type": "code",
   "execution_count": 2,
   "metadata": {},
   "outputs": [
    {
     "data": {
      "text/plain": [
       "Index(['Unnamed: 0', 'Actividad', 'Intesidad', 'Cal/Kg/h', 'Equipo',\n",
       "       'Equipamiento', 'Contacto', 'Pelota', 'Raqueta', 'Aire libre'],\n",
       "      dtype='object')"
      ]
     },
     "execution_count": 2,
     "metadata": {},
     "output_type": "execute_result"
    }
   ],
   "source": [
    "gasto = pd.read_csv('../Raw_Datasets/items_Giacomo/deportes_final.csv')\n",
    "gasto.columns"
   ]
  },
  {
   "cell_type": "code",
   "execution_count": 5,
   "metadata": {},
   "outputs": [],
   "source": [
    "gasto = gasto[['Actividad','Cal/Kg/h']]"
   ]
  },
  {
   "cell_type": "code",
   "execution_count": 6,
   "metadata": {},
   "outputs": [],
   "source": [
    "gasto['Actividad'] = gasto['Actividad'].replace({'Tenis de mesa / ping pong': 'Tenis de mesa',\n",
    "                                                     'Pádel': 'Padel'})"
   ]
  },
  {
   "cell_type": "code",
   "execution_count": 7,
   "metadata": {},
   "outputs": [
    {
     "data": {
      "text/html": [
       "<div>\n",
       "<style scoped>\n",
       "    .dataframe tbody tr th:only-of-type {\n",
       "        vertical-align: middle;\n",
       "    }\n",
       "\n",
       "    .dataframe tbody tr th {\n",
       "        vertical-align: top;\n",
       "    }\n",
       "\n",
       "    .dataframe thead th {\n",
       "        text-align: right;\n",
       "    }\n",
       "</style>\n",
       "<table border=\"1\" class=\"dataframe\">\n",
       "  <thead>\n",
       "    <tr style=\"text-align: right;\">\n",
       "      <th></th>\n",
       "      <th>Actividad</th>\n",
       "      <th>Cal/Kg/h</th>\n",
       "    </tr>\n",
       "  </thead>\n",
       "  <tbody>\n",
       "    <tr>\n",
       "      <th>0</th>\n",
       "      <td>BMX</td>\n",
       "      <td>8.504</td>\n",
       "    </tr>\n",
       "    <tr>\n",
       "      <th>1</th>\n",
       "      <td>Ciclismo</td>\n",
       "      <td>3.999</td>\n",
       "    </tr>\n",
       "    <tr>\n",
       "      <th>2</th>\n",
       "      <td>Ciclismo</td>\n",
       "      <td>5.998</td>\n",
       "    </tr>\n",
       "    <tr>\n",
       "      <th>3</th>\n",
       "      <td>Ciclismo</td>\n",
       "      <td>8.004</td>\n",
       "    </tr>\n",
       "    <tr>\n",
       "      <th>4</th>\n",
       "      <td>Ciclismo</td>\n",
       "      <td>10.004</td>\n",
       "    </tr>\n",
       "    <tr>\n",
       "      <th>...</th>\n",
       "      <td>...</td>\n",
       "      <td>...</td>\n",
       "    </tr>\n",
       "    <tr>\n",
       "      <th>71</th>\n",
       "      <td>Waterpolo</td>\n",
       "      <td>10.004</td>\n",
       "    </tr>\n",
       "    <tr>\n",
       "      <th>72</th>\n",
       "      <td>Voleibol acuático</td>\n",
       "      <td>2.999</td>\n",
       "    </tr>\n",
       "    <tr>\n",
       "      <th>73</th>\n",
       "      <td>Patinaje sobre hielo</td>\n",
       "      <td>12.003</td>\n",
       "    </tr>\n",
       "    <tr>\n",
       "      <th>74</th>\n",
       "      <td>Frontenis</td>\n",
       "      <td>7.503</td>\n",
       "    </tr>\n",
       "    <tr>\n",
       "      <th>75</th>\n",
       "      <td>Senderismo</td>\n",
       "      <td>5.998</td>\n",
       "    </tr>\n",
       "  </tbody>\n",
       "</table>\n",
       "<p>76 rows × 2 columns</p>\n",
       "</div>"
      ],
      "text/plain": [
       "               Actividad Cal/Kg/h\n",
       "0                    BMX    8.504\n",
       "1               Ciclismo    3.999\n",
       "2               Ciclismo    5.998\n",
       "3               Ciclismo    8.004\n",
       "4               Ciclismo   10.004\n",
       "..                   ...      ...\n",
       "71             Waterpolo   10.004\n",
       "72     Voleibol acuático    2.999\n",
       "73  Patinaje sobre hielo   12.003\n",
       "74             Frontenis    7.503\n",
       "75            Senderismo    5.998\n",
       "\n",
       "[76 rows x 2 columns]"
      ]
     },
     "execution_count": 7,
     "metadata": {},
     "output_type": "execute_result"
    }
   ],
   "source": [
    "gasto['Cal/Kg/h'] = gasto['Cal/Kg/h'].str.replace(',', '.')\n",
    "gasto"
   ]
  },
  {
   "cell_type": "code",
   "execution_count": 8,
   "metadata": {},
   "outputs": [],
   "source": [
    "gasto['Cal/Kg/h'] = gasto['Cal/Kg/h'].astype(float)"
   ]
  },
  {
   "cell_type": "code",
   "execution_count": 9,
   "metadata": {},
   "outputs": [],
   "source": [
    "gasto = gasto.groupby('Actividad').agg({'Cal/Kg/h': 'mean'}).reset_index()"
   ]
  },
  {
   "cell_type": "code",
   "execution_count": 10,
   "metadata": {},
   "outputs": [],
   "source": [
    "df_historico = pd.read_csv('../Raw_Datasets/datos_historicos_deportes.csv')"
   ]
  },
  {
   "cell_type": "code",
   "execution_count": 13,
   "metadata": {},
   "outputs": [],
   "source": [
    "for indice, fila in df_historico.iterrows():\n",
    "    for columna in df_historico.columns:\n",
    "        if fila[columna] == 1:\n",
    "            actividad = columna\n",
    "            calorias_deporte = gasto.loc[gasto['Actividad'] == actividad, 'Cal/Kg/h']\n",
    "            if not calorias_deporte.empty:\n",
    "                df_historico.at[indice, columna] *= calorias_deporte.iloc[0] * fila['Peso (Kg)']\n",
    "df_historico\n",
    "\n",
    "df_historico.to_csv('../Raw_Datasets/datos_historicos_deportes.csv', index=False)"
   ]
  },
  {
   "cell_type": "code",
   "execution_count": 14,
   "metadata": {},
   "outputs": [
    {
     "data": {
      "text/plain": [
       "Index(['Temperatura (°C)', 'Humedad', 'Edad', 'Peso (Kg)', 'Distancia (Km)',\n",
       "       'Clima_Lluvioso', 'Clima_Nublado', 'Clima_Soleado', 'Genero_Hombre',\n",
       "       'Genero_Mujer', 'Condicion_0', 'Condicion_1', 'Condicion_2',\n",
       "       'Objetivo_0', 'Objetivo_1', 'Objetivo_2', 'Aeróbicos',\n",
       "       'Aeróbicos acuáticos', 'Artes marciales', 'Atletismo', 'BMX',\n",
       "       'Baloncesto', 'Balonmano', 'Billar', 'Bolos', 'Boxeo', 'Bádminton',\n",
       "       'Béisbol', 'Calistenia', 'Calva', 'Caminar', 'Chito', 'Ciclismo',\n",
       "       'Ciclismo estacionario', 'Correr', 'Dardos',\n",
       "       'Entrenamiento en circuito', 'Escalada', 'Frisbee', 'Frontenis',\n",
       "       'Fútbol', 'Fútbol sala', 'Gimnasia', 'Golf', 'Hockey', 'Kickball',\n",
       "       'Kickboxing', 'Levantamiento de peso', 'Marcha rápida', 'Minigolf',\n",
       "       'Montañismo', 'Máquina escaladora', 'Nado sincronizado', 'Natación',\n",
       "       'Padel', 'Patinaje', 'Patinaje sobre hielo', 'Petanca', 'Raquetbol',\n",
       "       'Salto a la comba', 'Senderismo', 'Skateboard', 'Sóftbol', 'Tai chi',\n",
       "       'Tenis', 'Tenis de mesa', 'Tenis en pareja', 'Ultimate frisbee',\n",
       "       'Voleibol', 'Voleibol acuático', 'Waterpolo', 'Yoga'],\n",
       "      dtype='object')"
      ]
     },
     "execution_count": 14,
     "metadata": {},
     "output_type": "execute_result"
    }
   ],
   "source": [
    "df_historico.columns"
   ]
  }
 ],
 "metadata": {
  "kernelspec": {
   "display_name": "Python 3",
   "language": "python",
   "name": "python3"
  },
  "language_info": {
   "codemirror_mode": {
    "name": "ipython",
    "version": 3
   },
   "file_extension": ".py",
   "mimetype": "text/x-python",
   "name": "python",
   "nbconvert_exporter": "python",
   "pygments_lexer": "ipython3",
   "version": "3.10.11"
  },
  "orig_nbformat": 4
 },
 "nbformat": 4,
 "nbformat_minor": 2
}
